{
  "nbformat": 4,
  "nbformat_minor": 0,
  "metadata": {
    "colab": {
      "provenance": [],
      "authorship_tag": "ABX9TyOBAt38Ow9dxDaBjN1vd4Ta",
      "include_colab_link": true
    },
    "kernelspec": {
      "name": "python3",
      "display_name": "Python 3"
    },
    "language_info": {
      "name": "python"
    }
  },
  "cells": [
    {
      "cell_type": "markdown",
      "metadata": {
        "id": "view-in-github",
        "colab_type": "text"
      },
      "source": [
        "<a href=\"https://colab.research.google.com/github/ManasaGeddamuri18/googlecolab2/blob/main/nlp7.ipynb\" target=\"_parent\"><img src=\"https://colab.research.google.com/assets/colab-badge.svg\" alt=\"Open In Colab\"/></a>"
      ]
    },
    {
      "cell_type": "code",
      "execution_count": 7,
      "metadata": {
        "colab": {
          "base_uri": "https://localhost:8080/"
        },
        "id": "PXw4Ui5zqvbx",
        "outputId": "e7357442-48ac-4285-c1ed-4a0ba9f4dd51"
      },
      "outputs": [
        {
          "output_type": "stream",
          "name": "stdout",
          "text": [
            "Cosine similarity between 'manasa' and 'acoe' - CBOW :  -0.052346744\n"
          ]
        },
        {
          "output_type": "stream",
          "name": "stderr",
          "text": [
            "[nltk_data] Downloading package punkt to /root/nltk_data...\n",
            "[nltk_data]   Package punkt is already up-to-date!\n"
          ]
        }
      ],
      "source": [
        "import nltk\n",
        "nltk.download('punkt')\n",
        "from nltk.tokenize import sent_tokenize, word_tokenize\n",
        "import warnings\n",
        "warnings.filterwarnings(action = 'ignore')\n",
        "import gensim\n",
        "from gensim.models import Word2Vec\n",
        "sample = open(\"/content/words2vec.txt\")\n",
        "s = sample.read()\n",
        "\n",
        "f = s.replace(\"\\n\", \" \")\n",
        "data = []\n",
        "for i in sent_tokenize(f):\n",
        "    temp = []\n",
        "    for j in word_tokenize(i):\n",
        "        temp.append(j.lower())\n",
        "    data.append(temp)\n",
        "\n",
        "model1 = gensim.models.Word2Vec(data, min_count = 1,vector_size = 100, window = 5)\n",
        "print(\"Cosine similarity between 'manasa' \" + \"and 'acoe' - CBOW : \", model1.wv.similarity('manasa', 'acoe'))\n"
      ]
    },
    {
      "cell_type": "code",
      "source": [
        "print(print(\"Cosine similarity between 'manasa' \" +\"and 'acoe' - CBOW : \",  model1.wv.similarity('manasa', 'acoe')))\n",
        "model2 = gensim.models.Word2Vec(data, min_count = 1, vector_size = 100,window = 5, sg = 1)\n",
        "print(\"Cosine similarity between 'manasa' \" +\"and 'acoe' - Skip Gram : \", model2.wv.similarity('manasa', 'acoe'))\n",
        "print(\"Cosine similarity between 'manasa' \" +\"and 'acoe' - Skip Gram : \", model2.wv.similarity('manasa', 'acoe'))"
      ],
      "metadata": {
        "colab": {
          "base_uri": "https://localhost:8080/"
        },
        "id": "Hrp0iQGLteDj",
        "outputId": "9d8bfd10-26f4-4da7-b5ef-be19fed59a65"
      },
      "execution_count": 10,
      "outputs": [
        {
          "output_type": "stream",
          "name": "stdout",
          "text": [
            "Cosine similarity between 'manasa' and 'acoe' - CBOW :  -0.052346744\n",
            "None\n",
            "Cosine similarity between 'manasa' and 'acoe' - Skip Gram :  -0.052346744\n",
            "Cosine similarity between 'manasa' and 'acoe' - Skip Gram :  -0.052346744\n"
          ]
        }
      ]
    },
    {
      "cell_type": "code",
      "source": [
        "from textblob.classifiers import NaiveBayesClassifier\n",
        "\n",
        "train = [\n",
        "    ('I love this sandwich.', 'pos'),\n",
        "    ('This is an amazing place!', 'pos'),\n",
        "    ('I feel very good about these beers.', 'pos'),\n",
        "     ('This is my best work.', 'pos'),\n",
        "    (\"What an awesome view\", 'pos'),\n",
        "    ('I do not like this restaurant', 'neg'),\n",
        "    ('I am tired of this stuff.', 'neg'),\n",
        "    (\"I can't deal with this\", 'neg'),\n",
        "    ('He is my sworn enemy!', 'neg'),\n",
        "    ('My boss is horrible.', 'neg')\n",
        "]\n",
        "test = [\n",
        "    ('The beer was good.', 'pos'),\n",
        "    ('I do not enjoy my job', 'neg'),\n",
        "    (\"I ain't feeling dandy today.\", 'neg'),\n",
        "    (\"I feel amazing!\", 'pos'),\n",
        "    ('Gary is a friend of mine.', 'pos'),\n",
        "    (\"I can't believe I'm doing this.\", 'neg')\n",
        "]\n",
        "cl = NaiveBayesClassifier(train)\n",
        "cl.classify(\"Their burgers are amazing\")\n",
        "cl.classify(\"I don't like their pizza.\")\n",
        "from textblob import TextBlob\n",
        "blob = TextBlob(\"The beer was amazing.\"\"But the hangover was horrible. My boss was not happy.\",  classifier=cl)\n",
        "blob.classify()\n",
        "for sentence in blob.sentences:\n",
        "    print(sentence)\n",
        "    print(sentence.classify())\n",
        "    cl.accuracy(test)\n",
        "    cl.show_informative_features(5)\n",
        ""
      ],
      "metadata": {
        "colab": {
          "base_uri": "https://localhost:8080/"
        },
        "id": "KRTK04acxj6x",
        "outputId": "bc68ed77-9957-4ac7-9b84-e1154a2b0470"
      },
      "execution_count": 12,
      "outputs": [
        {
          "output_type": "stream",
          "name": "stdout",
          "text": [
            "The beer was amazing.But the hangover was horrible.\n",
            "neg\n",
            "Most Informative Features\n",
            "          contains(this) = True              neg : pos    =      2.3 : 1.0\n",
            "          contains(this) = False             pos : neg    =      1.8 : 1.0\n",
            "          contains(This) = False             neg : pos    =      1.6 : 1.0\n",
            "            contains(an) = False             neg : pos    =      1.6 : 1.0\n",
            "             contains(I) = False             pos : neg    =      1.4 : 1.0\n",
            "My boss was not happy.\n",
            "neg\n",
            "Most Informative Features\n",
            "          contains(this) = True              neg : pos    =      2.3 : 1.0\n",
            "          contains(this) = False             pos : neg    =      1.8 : 1.0\n",
            "          contains(This) = False             neg : pos    =      1.6 : 1.0\n",
            "            contains(an) = False             neg : pos    =      1.6 : 1.0\n",
            "             contains(I) = False             pos : neg    =      1.4 : 1.0\n"
          ]
        }
      ]
    }
  ]
}
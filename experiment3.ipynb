{
  "nbformat": 4,
  "nbformat_minor": 0,
  "metadata": {
    "colab": {
      "provenance": [],
      "authorship_tag": "ABX9TyP3WRSZr1IUmTMkZUPe9JPI",
      "include_colab_link": true
    },
    "kernelspec": {
      "name": "python3",
      "display_name": "Python 3"
    },
    "language_info": {
      "name": "python"
    }
  },
  "cells": [
    {
      "cell_type": "markdown",
      "metadata": {
        "id": "view-in-github",
        "colab_type": "text"
      },
      "source": [
        "<a href=\"https://colab.research.google.com/github/ManasaGeddamuri18/googlecolab2/blob/main/experiment3.ipynb\" target=\"_parent\"><img src=\"https://colab.research.google.com/assets/colab-badge.svg\" alt=\"Open In Colab\"/></a>"
      ]
    },
    {
      "cell_type": "code",
      "execution_count": null,
      "metadata": {
        "colab": {
          "base_uri": "https://localhost:8080/"
        },
        "id": "LxXi7Tikx3EW",
        "outputId": "41150396-dce4-415a-d29f-d5c35e2e50d3"
      },
      "outputs": [
        {
          "output_type": "stream",
          "name": "stdout",
          "text": [
            "pearsons correlation coefficient: 0.9999999999999998\n"
          ]
        }
      ],
      "source": [
        "import numpy as np\n",
        "def pearson_correlation(x,y):\n",
        "  mean_x=np.mean(x)\n",
        "  mean_y=np.mean(y)\n",
        "  covariance=np.sum((x-mean_x)*(y-mean_y))\n",
        "  std_dev_x=np.sqrt(np.sum((x-mean_x)**2))\n",
        "  std_dev_y=np.sqrt(np.sum((y-mean_y)**2))\n",
        "  correlation =covariance/(std_dev_x*std_dev_y)\n",
        "  return correlation\n",
        "x=np.array([1,2,3,4,5])\n",
        "y=np.array([2,3,4,5,6])\n",
        "print(\"pearsons correlation coefficient:\", pearson_correlation(x,y))\n"
      ]
    },
    {
      "cell_type": "markdown",
      "source": [],
      "metadata": {
        "id": "1uvq_5Qu06vS"
      }
    },
    {
      "cell_type": "code",
      "source": [
        "from sklearn.metrics.pairwise import cosine_similarity\n",
        "vector1=np.array([1,2,3])\n",
        "vector2=np.array([4,5,6])\n",
        "cosine_sim=cosine_similarity(vector1.reshape(1,-1),vector2.reshape(1,-1))\n",
        "print(\"cosine similarity\",cosine_sim[0][0])"
      ],
      "metadata": {
        "colab": {
          "base_uri": "https://localhost:8080/"
        },
        "id": "fQLLFHrF09nZ",
        "outputId": "28fac8bc-d6b8-455f-ed77-b7331303cb38"
      },
      "execution_count": null,
      "outputs": [
        {
          "output_type": "stream",
          "name": "stdout",
          "text": [
            "cosine similarity 0.9746318461970762\n"
          ]
        }
      ]
    },
    {
      "cell_type": "code",
      "source": [
        "def jaccard_similarity(set1,set2):\n",
        "  intersection=len(set1.intersection(set2))\n",
        "  union=len(set1.union(set2))\n",
        "  return intersection/union\n",
        "set1=set([1,2,3])\n",
        "set2=set([2,3,4])\n",
        "print(\"jaccard similarity:\",jaccard_similarity(set1,set2))"
      ],
      "metadata": {
        "colab": {
          "base_uri": "https://localhost:8080/"
        },
        "id": "9DO4fyBP3oa_",
        "outputId": "a5955e07-12df-46bf-a109-7ed2888dadd1"
      },
      "execution_count": null,
      "outputs": [
        {
          "output_type": "stream",
          "name": "stdout",
          "text": [
            "jaccard similarity: 0.5\n"
          ]
        }
      ]
    },
    {
      "cell_type": "code",
      "source": [
        "def euclidean_distance(x,y):\n",
        "  return np.sqrt(np.sum((x-y)**2))\n",
        "point1=np.array([1,2,3])\n",
        "point2=np.array([4,5,6])\n",
        "print(euclidean_distance(point1,point2))\n"
      ],
      "metadata": {
        "colab": {
          "base_uri": "https://localhost:8080/"
        },
        "id": "WiE1uNMv4ziy",
        "outputId": "bb2e33cb-48e9-4eda-8ba3-8c183aafa205"
      },
      "execution_count": null,
      "outputs": [
        {
          "output_type": "stream",
          "name": "stdout",
          "text": [
            "5.196152422706632\n"
          ]
        }
      ]
    },
    {
      "cell_type": "code",
      "source": [
        "def manhattan_distance(x,y):\n",
        "  return np.sum(np.abs(x-y))\n",
        "  point1=np.array([1,2,3])\n",
        "point2=np.array([4,5,6])\n",
        "print(manhattan_distance(point1,point2))\n",
        "\n"
      ],
      "metadata": {
        "colab": {
          "base_uri": "https://localhost:8080/"
        },
        "id": "FVFcovx25erm",
        "outputId": "962564e2-8d83-46f0-9851-18e43662a7c4"
      },
      "execution_count": null,
      "outputs": [
        {
          "output_type": "stream",
          "name": "stdout",
          "text": [
            "9\n"
          ]
        }
      ]
    }
  ]
}